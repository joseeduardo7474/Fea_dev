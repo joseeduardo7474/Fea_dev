{
 "cells": [
  {
   "cell_type": "markdown",
   "metadata": {},
   "source": [
    "## 5) Processos estocáticos  \n",
    "\n",
    "\n",
    "<img src='http://media3.giphy.com/media/YPBvdXHxANHHi/giphy.gif' width=\"300\">\n",
    "\n",
    "\n",
    "<p align='center'>\n",
    "\"Predictability is not how things will go, but how they can go\"- Raheel Farooq\n",
    "</p>\n",
    "\n",
    "\n",
    "<p align='center'>\n",
    "\"A fortuna troca, às vezes, os cálculos da natureza\" - Machado de Assis (1839-1908)\n",
    "</p>\n",
    "\n",
    "\n",
    "#### Introdução\n",
    "\n",
    "Um processo estocástico, a grosso modo, é uma sequência de variáveis aleatórias. A palavra estocástica significa probabilística, oposta à Ao palavra determinística em que por meio de uma equação é possível saber o resultado exato (pense numa equação y = ax + b, caso conhecermos todos os parâmetros, a partir de uma observação de x poderemos __determinar__ o y).\n",
    "\n",
    "Caso queira saber mais (não será necessário para resolver o exercício), acesse os links:\n",
    "\n",
    "* [Cadeias de Markov: Caminhadas aleatórias (Teoria e Simulação) - Aula 3](https://www.youtube.com/watch?v=cwhQYqR_Iag&list=PLSc7xcwCGNh0jSylDm0QrDJaFTC3vAbvc&index=5) \n",
    "* [O que são processos estocásticos?](https://www.youtube.com/watch?v=WOWi6dswgkY&list=PLSc7xcwCGNh0jSylDm0QrDJaFTC3vAbvc&index=1)\n",
    "* [Introdução ao método de Monte Carlo](https://www.interviewqs.com/blog/intro-monte-carlo) <-- recomendado!\n",
    "\n",
    "Dentro desse assunto temos o conceito de \"passeios aleatórios\", que são objetos matemáticos cujos caminhos consistem em, como o próprio nome sugere, uma sucessão de movimentos aleatórios, podendo representar o deslocamento de uma molécula em um gás, processos de difusão de partículas, o andar de um bêbado, ou o comportamento de ativos no mercado financeiro, já que eles sofrem diversas influências externas, fazendo seu movimento ser entendido como aleatório (tornando-os difíceis de serem previstos).\n",
    "\n",
    "#### __a)__ Gere uma série de retornos \"previstos\" por uma caminhada aleatória "
   ]
  },
  {
   "cell_type": "markdown",
   "metadata": {},
   "source": [
    "#### __Desafio:__ Pesquise e explique a diferença entre os modelos de Monte Carlo, Binomial e Black-Scholes."
   ]
  },
  {
   "cell_type": "markdown",
   "metadata": {},
   "source": [
    "### * Monte Carlo\n",
    "Por ser um modelo probabilistico e não deterministico leva em conta a incerteza presente na realidade\n",
    "\n",
    "Fornece vários resultados possíveis, baseado nas amostras dadas\n",
    "\n",
    "Usada para avaliar riscos em longo prazo\n",
    "\n",
    "Usa um modelo matemático e considera valores prováveis para suas variáveis"
   ]
  },
  {
   "cell_type": "markdown",
   "metadata": {},
   "source": [
    "### * Binomial"
   ]
  },
  {
   "cell_type": "markdown",
   "metadata": {},
   "source": [
    "É um cálculo estatístico que utiliza uma distribuição binomial para identificar a probabilidade de um evento ocorrer dentro de um sistema fechado, utilizando uma sequência limitada de tentativas. \n",
    "\n",
    "A distribuição binomial é um experimento Bernoulli, onde o resultado é completamente determinado por chance (aleatório) e existem apenas dois possíveis resultados. Todas as tentativas têm a mesma probabilidade para um resultado em particular, e as tentativas ou realizações do experimento são independentes."
   ]
  },
  {
   "cell_type": "markdown",
   "metadata": {},
   "source": [
    "### * Black-Scholes"
   ]
  },
  {
   "cell_type": "markdown",
   "metadata": {},
   "source": [
    "O modelo Black-Scholes é um modelo de precificação de opções que utiliza processos estocásticos para calcular o valor teórico das opções. O modelo foi desenvolvido na década de 70 por Fisher Black e Robert Merton e é um dos mais utilizados no mundo para calcular o preço justo de uma opção no mercado financeiro. \n",
    "\n",
    "O modelo Black-Scholes utiliza uma série de variáveis, como os preços atuais das ações, preço de exercício da opção, dividendos esperados, taxas de juros projetadas, tempo de expiração e volatilidade esperada. A fórmula do modelo é construída para prever a volatilidade e retorno de uma determinada opção.\n",
    "\n",
    "O modelo Black-Scholes faz as seguintes suposições: \n",
    "* É possível emprestar e tomar emprestado a uma taxa de juros livre de risco constante e conhecida. \n",
    "* O preço segue um movimento Browniano geométrico com tendência (drift) e volatilidade constantes. \n",
    "* Não há custos de transação. \n",
    "* A ação não paga dividendos. \n"
   ]
  }
 ],
 "metadata": {
  "language_info": {
   "name": "python"
  }
 },
 "nbformat": 4,
 "nbformat_minor": 2
}
