{
 "cells": [
  {
   "cell_type": "code",
   "execution_count": 1,
   "metadata": {},
   "outputs": [],
   "source": [
    "import pandas as pd\n",
    "import random\n",
    "from datetime import datetime"
   ]
  },
  {
   "cell_type": "markdown",
   "metadata": {},
   "source": [
    "# Adiciona e vê se é aniversariante"
   ]
  },
  {
   "cell_type": "code",
   "execution_count": 13,
   "metadata": {},
   "outputs": [
    {
     "name": "stdout",
     "output_type": "stream",
     "text": [
      "!!! Feliz aniversário josé !!!\n"
     ]
    }
   ],
   "source": [
    "devers = []\n",
    "def dados(nome, dt_nascimento,  lista):\n",
    "    aux = pd.Series(nome,[pd.to_datetime(dt_nascimento)])\n",
    "    return lista.append(aux)\n",
    "\n",
    "def aniversariante (lista):\n",
    "    for dever in lista:\n",
    "        if (datetime.now().month - dever.index.month) == 0 and (datetime.now().day - dever.index.day) == 0:\n",
    "            print(f'!!! Feliz aniversário {dever[0]} !!!')\n",
    "\n",
    "dados ('josé',datetime.now(), devers)\n",
    "dados ('jp','2016-05-28', devers)\n",
    "\n",
    "aniversariante(devers)"
   ]
  },
  {
   "cell_type": "markdown",
   "metadata": {},
   "source": [
    "# Conta os dias para o aniversário"
   ]
  },
  {
   "cell_type": "code",
   "execution_count": 17,
   "metadata": {},
   "outputs": [
    {
     "name": "stdout",
     "output_type": "stream",
     "text": [
      "josé\n",
      "162 days, 0:00:00\n",
      "joão\n",
      "212 days, 0:00:00\n",
      "jango\n",
      "112 days, 0:00:00\n"
     ]
    },
    {
     "name": "stderr",
     "output_type": "stream",
     "text": [
      "c:\\Users\\T-Gamer\\anaconda3\\lib\\site-packages\\IPython\\core\\interactiveshell.py:3309: UserWarning: Parsing '25/12/2001' in DD/MM/YYYY format. Provide format or specify infer_datetime_format=True for consistent parsing.\n",
      "  if await self.run_code(code, result, async_=asy):\n",
      "c:\\Users\\T-Gamer\\anaconda3\\lib\\site-packages\\IPython\\core\\interactiveshell.py:3309: UserWarning: Parsing '16/09/2002' in DD/MM/YYYY format. Provide format or specify infer_datetime_format=True for consistent parsing.\n",
      "  if await self.run_code(code, result, async_=asy):\n"
     ]
    }
   ],
   "source": [
    "a = ['josé', 'joão', 'jango']\n",
    "b = ['11/05/2003', '25/12/2001','16/09/2002']  # Dia/Mês/Ano\n",
    "tamanho = len(b)\n",
    "\n",
    "datas = [datetime.date(pd.Timestamp(x)) for x in b]\n",
    "devers = pd.Series(a, index=datas)\n",
    "\n",
    "ano_atual = datetime.date(datetime.now()).year\n",
    "\n",
    "prox_aniversarios = []\n",
    "for y in range(len(b)):\n",
    "    a = datetime.date(pd.Timestamp(devers.index[y]))\n",
    "    b = a + pd.DateOffset(year=ano_atual)\n",
    "    prox_aniversarios.append(b)\n",
    "\n",
    "for aux in range(tamanho):\n",
    "    if datetime.now() > prox_aniversarios[aux]:\n",
    "        print(devers[aux])\n",
    "        aniversario_prox_ano = prox_aniversarios[aux] + pd.DateOffset(years=1)\n",
    "        print(datetime.date(aniversario_prox_ano) - datetime.date(datetime.now()))\n",
    "\n",
    "    else:\n",
    "        print(devers[aux])\n",
    "        print((datetime.date(datetime.now()) - datetime.date(prox_aniversarios[aux]))*-1)"
   ]
  },
  {
   "cell_type": "markdown",
   "metadata": {},
   "source": [
    "## DateTimeIndex and PeriodIndex"
   ]
  },
  {
   "cell_type": "code",
   "execution_count": null,
   "metadata": {},
   "outputs": [
    {
     "data": {
      "text/plain": [
       "2016-09-01    a\n",
       "2016-09-02    b\n",
       "dtype: object"
      ]
     },
     "execution_count": 145,
     "metadata": {},
     "output_type": "execute_result"
    }
   ],
   "source": [
    "# t1 = pd.Series(list('ab'),[pd.Timestamp('2016-09-01'), pd.Timestamp('2016-09-02')])\n",
    "# t1\n",
    "\n",
    "t1 = pd.Series(list('ab'),[\n",
    "  \t\t\t\t\t\t\tpd.Timestamp('2016-09-01'),\n",
    "  \t\t\t\t\t\t\tpd.Timestamp('2016-09-02')\n",
    "\t\t\t\t\t\t\t])\n",
    "t1"
   ]
  },
  {
   "cell_type": "code",
   "execution_count": null,
   "metadata": {},
   "outputs": [
    {
     "data": {
      "text/plain": [
       "Timedelta('10 days 00:00:00')"
      ]
     },
     "execution_count": 5,
     "metadata": {},
     "output_type": "execute_result"
    }
   ],
   "source": [
    "# print(t1.loc['2016-09-01'])\n",
    "# print(t1[0])\n",
    "# >> 'a'\n",
    "\n",
    "(pd.Timestamp('2016-09-11') -\n",
    "pd.Timestamp('2016-09-01'))\n"
   ]
  },
  {
   "cell_type": "code",
   "execution_count": null,
   "metadata": {},
   "outputs": [
    {
     "data": {
      "text/plain": [
       "2016-09    a\n",
       "2016-10    b\n",
       "Freq: M, dtype: object"
      ]
     },
     "execution_count": 148,
     "metadata": {},
     "output_type": "execute_result"
    }
   ],
   "source": [
    "t1 = pd.Series(list('ab'), [pd.Period('2016-09'),\n",
    "                            pd.Period(\"2016-10\")\n",
    "                            ])\n",
    "\n",
    "t1\n",
    "\n",
    "# 2016-09    a\n",
    "# 2016-10    b\n",
    "# Freq: M, dtype: object"
   ]
  },
  {
   "cell_type": "code",
   "execution_count": null,
   "metadata": {},
   "outputs": [
    {
     "data": {
      "text/plain": [
       "'a'"
      ]
     },
     "execution_count": 7,
     "metadata": {},
     "output_type": "execute_result"
    }
   ],
   "source": [
    "t1[0]\n",
    "# >> 'a'\n",
    "t1.loc['2016-09']\n",
    "# >> 'a'"
   ]
  },
  {
   "cell_type": "code",
   "execution_count": null,
   "metadata": {},
   "outputs": [
    {
     "data": {
      "text/plain": [
       "PeriodIndex(['2016-11', '2016-12'], dtype='period[M]')"
      ]
     },
     "execution_count": 8,
     "metadata": {},
     "output_type": "execute_result"
    }
   ],
   "source": [
    "t1.index = t1.index+2\n",
    "t1.index\n",
    "\n",
    "# 2016-11    a\n",
    "# 2016-12    b\n",
    "# 2017-01    c\n",
    "# Freq: M, dtype: object"
   ]
  },
  {
   "cell_type": "code",
   "execution_count": null,
   "metadata": {},
   "outputs": [
    {
     "data": {
      "text/plain": [
       "pandas._libs.tslibs.offsets.MonthEnd"
      ]
     },
     "execution_count": 9,
     "metadata": {},
     "output_type": "execute_result"
    }
   ],
   "source": [
    "a = pd.Period('2016-09') - pd.Period('2016-05')\n",
    "type(a)"
   ]
  },
  {
   "cell_type": "code",
   "execution_count": null,
   "metadata": {},
   "outputs": [
    {
     "data": {
      "text/plain": [
       "2016-09-01    a\n",
       "2016-09-02    b\n",
       "dtype: object"
      ]
     },
     "execution_count": 10,
     "metadata": {},
     "output_type": "execute_result"
    }
   ],
   "source": [
    "dt1 = pd.Series(list('ab'),[\n",
    "  \t\t\t\t\t\t\tpd.Timestamp('2016-09-01'),\n",
    "                            pd.Timestamp('2016-09-02')\n",
    "\t\t\t\t\t\t\t])\n",
    "dt1"
   ]
  },
  {
   "cell_type": "code",
   "execution_count": null,
   "metadata": {},
   "outputs": [
    {
     "data": {
      "text/plain": [
       "Period('2016-11', 'M')"
      ]
     },
     "execution_count": 156,
     "metadata": {},
     "output_type": "execute_result"
    }
   ],
   "source": [
    "pd.Period('2016-09') + 2\n",
    "\n",
    "#Period('2016-11', 'M')\n",
    "\n",
    "# pd.Timestamp('2016-09-01') + 2\n",
    "\n",
    "# TypeError"
   ]
  },
  {
   "cell_type": "code",
   "execution_count": null,
   "metadata": {},
   "outputs": [
    {
     "data": {
      "text/plain": [
       "Timedelta('61 days 00:00:00')"
      ]
     },
     "execution_count": 158,
     "metadata": {},
     "output_type": "execute_result"
    }
   ],
   "source": [
    "(pd.Period('2016-11').start_time -\n",
    "pd.Period('2016-9').start_time)\n",
    "\n",
    "###\n",
    "# Timedelta('61 days 00:00:00')"
   ]
  },
  {
   "cell_type": "code",
   "execution_count": null,
   "metadata": {},
   "outputs": [
    {
     "data": {
      "text/plain": [
       "Timedelta('61 days 00:00:00')"
      ]
     },
     "execution_count": 160,
     "metadata": {},
     "output_type": "execute_result"
    }
   ],
   "source": [
    "(pd.Timestamp('2016-11') -\n",
    "pd.Timestamp('2016-9'))\n",
    "\n",
    "###\n",
    "# Timedelta('61 days 00:00:00')"
   ]
  },
  {
   "cell_type": "code",
   "execution_count": null,
   "metadata": {},
   "outputs": [
    {
     "name": "stdout",
     "output_type": "stream",
     "text": [
      "a\n",
      "b\n"
     ]
    }
   ],
   "source": [
    "t1 = pd.Series(list('ab'), [\n",
    "  \t\t\t\t\t\t\tpd.Timestamp('2016-09-01'),\n",
    "  \t\t\t\t\t\t\tpd.Timestamp('2016-09-02')\n",
    "\t\t\t\t\t\t\t])\n",
    "\n",
    "print(t1[0])\n",
    "print(t1.loc['2016-09-02'])\n",
    "\n",
    "\n",
    "## Saída\n",
    "# a\n",
    "# b\n"
   ]
  }
 ],
 "metadata": {
  "kernelspec": {
   "display_name": "base",
   "language": "python",
   "name": "python3"
  },
  "language_info": {
   "codemirror_mode": {
    "name": "ipython",
    "version": 3
   },
   "file_extension": ".py",
   "mimetype": "text/x-python",
   "name": "python",
   "nbconvert_exporter": "python",
   "pygments_lexer": "ipython3",
   "version": "3.9.12"
  }
 },
 "nbformat": 4,
 "nbformat_minor": 2
}
