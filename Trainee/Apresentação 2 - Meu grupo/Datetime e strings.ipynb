{
 "cells": [
  {
   "cell_type": "code",
   "execution_count": 1,
   "metadata": {},
   "outputs": [],
   "source": [
    "import pandas as pd\n",
    "import matplotlib.pyplot as plt\n",
    "import numpy as np\n",
    "from datetime import datetime, timedelta\n",
    "import time"
   ]
  },
  {
   "cell_type": "markdown",
   "metadata": {},
   "source": [
    "# Date_Range"
   ]
  },
  {
   "cell_type": "markdown",
   "metadata": {},
   "source": [
    "A função date_range do pandas é utilizada para gerar uma sequência de datas com uma frequência específica. Ela é muito útil para criar séries temporais e intervalos de datas em análise de dados.\n",
    "\n",
    "Link documentação: https://pandas.pydata.org/docs/reference/api/pandas.date_range.html\n",
    "\n",
    "Parâmetros Principais:\n",
    "\n",
    "start: Data inicial da sequência (string, datetime ou Timestamp).\n",
    "end: Data final da sequência (string, datetime ou Timestamp).\n",
    "periods: Número de períodos a serem gerados (mutuamente exclusivo com end).\n",
    "freq: Frequência das datas geradas. Pode ser 'D' para dias, 'B' para dias úteis, 'H' para horas, etc.\n",
    "tz: Fuso horário para as datas geradas.\n",
    "normalize: Se True, normaliza a data inicial e final para meia-noite.\n",
    "name: Nome para o índice de resultado.\n",
    "closed: Se as datas são intervalos fechados no lado direito ou esquerdo."
   ]
  },
  {
   "cell_type": "code",
   "execution_count": 2,
   "metadata": {},
   "outputs": [
    {
     "name": "stdout",
     "output_type": "stream",
     "text": [
      "DatetimeIndex(['2023-01-01', '2023-01-02', '2023-01-03', '2023-01-04',\n",
      "               '2023-01-05', '2023-01-06', '2023-01-07', '2023-01-08',\n",
      "               '2023-01-09', '2023-01-10'],\n",
      "              dtype='datetime64[ns]', freq='D')\n"
     ]
    }
   ],
   "source": [
    "# Exemplo 1: Gerar uma sequência de datas diárias\n",
    "\n",
    "datas_diarias = pd.date_range(start='2023-01-01', end='2023-01-10')\n",
    "print(datas_diarias)"
   ]
  },
  {
   "cell_type": "code",
   "execution_count": 3,
   "metadata": {},
   "outputs": [
    {
     "name": "stdout",
     "output_type": "stream",
     "text": [
      "DatetimeIndex(['2023-01-01', '2023-01-08', '2023-01-15', '2023-01-22',\n",
      "               '2023-01-29', '2023-02-05', '2023-02-12', '2023-02-19',\n",
      "               '2023-02-26'],\n",
      "              dtype='datetime64[ns]', freq='W-SUN')\n"
     ]
    }
   ],
   "source": [
    "# Exemplo 2: Gerar uma sequência de datas com frequência semanal\n",
    "datas_semanais = pd.date_range(start='2023-01-01', end='2023-03-01', freq='W')\n",
    "print(datas_semanais)"
   ]
  },
  {
   "cell_type": "code",
   "execution_count": 4,
   "metadata": {},
   "outputs": [
    {
     "name": "stdout",
     "output_type": "stream",
     "text": [
      "DatetimeIndex(['2023-01-01', '2023-01-02', '2023-01-03', '2023-01-04',\n",
      "               '2023-01-05', '2023-01-06', '2023-01-07', '2023-01-08',\n",
      "               '2023-01-09', '2023-01-10'],\n",
      "              dtype='datetime64[ns]', freq='D')\n"
     ]
    }
   ],
   "source": [
    "# Exemplo 3: Gerar uma sequência de datas com uma quantidade específica de períodos\n",
    "datas_periodos = pd.date_range(start='2023-01-01', periods=10)\n",
    "print(datas_periodos)"
   ]
  },
  {
   "cell_type": "markdown",
   "metadata": {},
   "source": [
    "# Time_Delta"
   ]
  },
  {
   "cell_type": "markdown",
   "metadata": {},
   "source": [
    "No Python, a função timedelta do módulo datetime é usada para representar uma duração, ou a diferença entre duas datas ou horários. Ela é muito útil para adicionar ou subtrair períodos de tempo a objetos de data e hora (datetime e date) e para calcular diferenças entre datas e horários.\n",
    "\n",
    "Link documentação: https://www.geeksforgeeks.org/python-datetime-timedelta-function/\n",
    "\n",
    "Parâmetros\n",
    "days: Número de dias.\n",
    "seconds: Número de segundos.\n",
    "microseconds: Número de microssegundos.\n",
    "milliseconds: Número de milissegundos.\n",
    "minutes: Número de minutos.\n",
    "hours: Número de horas.\n",
    "weeks: Número de semanas."
   ]
  },
  {
   "cell_type": "code",
   "execution_count": 5,
   "metadata": {},
   "outputs": [
    {
     "name": "stdout",
     "output_type": "stream",
     "text": [
      "2024-06-04 13:42:07.467089 \n",
      " 2024-06-14 13:42:07.467089\n"
     ]
    }
   ],
   "source": [
    "# Exemplo 1: Adicionar um Período a uma Data\n",
    "hoje = datetime.now()\n",
    "\n",
    "# Adicionar 10 dias\n",
    "futuro = hoje + timedelta(days=10)\n",
    "print(f'{hoje} \\n {futuro}')"
   ]
  },
  {
   "cell_type": "code",
   "execution_count": 6,
   "metadata": {},
   "outputs": [
    {
     "name": "stdout",
     "output_type": "stream",
     "text": [
      "2024-06-04 13:42:07.482090\n",
      "2024-05-30 13:42:07.482090\n"
     ]
    }
   ],
   "source": [
    "# Exemplo 2: Subtrair um Período de uma Data\n",
    "hoje = datetime.now()\n",
    "\n",
    "# Subtrair 5 dias\n",
    "passado = hoje - timedelta(days=5)\n",
    "print(f'{hoje}\\n{passado}')"
   ]
  },
  {
   "cell_type": "code",
   "execution_count": 7,
   "metadata": {},
   "outputs": [
    {
     "name": "stdout",
     "output_type": "stream",
     "text": [
      "Diferença: 127 days, 10:17:52.500909\n"
     ]
    }
   ],
   "source": [
    "# Exemplo 3: Calcular a Diferença entre Datas\n",
    "hoje = datetime.now()\n",
    "data2 = datetime(year=2024, month=10, day=10)\n",
    "# Diferença entre as datas\n",
    "diferenca = data2 - hoje\n",
    "print(\"Diferença:\", diferenca)"
   ]
  },
  {
   "cell_type": "markdown",
   "metadata": {},
   "source": [
    "# Strftime"
   ]
  },
  {
   "cell_type": "markdown",
   "metadata": {},
   "source": [
    "A função strftime em Python é usada para formatar objetos de data e hora (datetime ou date) em uma string de acordo com um formato especificado. A função strftime pertence tanto ao módulo datetime quanto ao módulo time. A função strftime é uma ferramenta poderosa para formatar datas e horas em strings de maneira flexível e personalizável. É amplamente utilizada para preparar datas para exibição, gerar nomes de arquivos baseados em datas, e muitas outras aplicações onde um formato de data específico é necessário. \n",
    "\n",
    "A sigla strftime significa \"string format time\", e a função é muito útil para converter datas e horas em uma representação de string legível ou em um formato específico necessário para processamento posterior.\n",
    "\n",
    "Link documentação: https://www.programiz.com/python-programming/datetime/strftime\n",
    "\n",
    "Códigos de formatação mais comuns usados com strftime:\n",
    "\n",
    "%Y: Ano com século (por exemplo, 2024)\n",
    "%m: Mês como um número decimal de 01 a 12\n",
    "%d: Dia do mês como um número decimal de 01 a 31\n",
    "%H: Hora (24 horas) de 00 a 23\n",
    "\n",
    "%B: Nome completo do mês\n",
    "%b: Abreviação do mês"
   ]
  },
  {
   "cell_type": "code",
   "execution_count": 8,
   "metadata": {},
   "outputs": [
    {
     "name": "stdout",
     "output_type": "stream",
     "text": [
      "Data formatada: 2024-06-04 13:42:07\n",
      "<class 'str'>\n"
     ]
    }
   ],
   "source": [
    "# Exemplo 1: Formatar a Data Atual\n",
    "agora = datetime.now()\n",
    "\n",
    "# Formatar a data em 'YYYY-MM-DD' e hora em 'HH:MM:SS'\n",
    "data_formatada = agora.strftime('%Y-%m-%d %H:%M:%S')\n",
    "print(f\"Data formatada: {data_formatada}\")\n",
    "print(type(data_formatada))"
   ]
  },
  {
   "cell_type": "code",
   "execution_count": 9,
   "metadata": {},
   "outputs": [
    {
     "name": "stdout",
     "output_type": "stream",
     "text": [
      "Apenas a data: 04/06/2024\n"
     ]
    }
   ],
   "source": [
    "# Exemplo 2: Obter Apenas a Data\n",
    "agora = datetime.now()\n",
    "\n",
    "# Formatar apenas a data em 'DD/MM/YYYY'\n",
    "data_formatada = agora.strftime('%d/%m/%Y')\n",
    "print(\"Apenas a data:\", data_formatada)"
   ]
  },
  {
   "cell_type": "code",
   "execution_count": 10,
   "metadata": {},
   "outputs": [
    {
     "name": "stdout",
     "output_type": "stream",
     "text": [
      "Dia e mês: Tuesday, June 04, 2024\n"
     ]
    }
   ],
   "source": [
    "# Exemplo 3: Obter o Nome do Dia da Semana e do Mês\n",
    "agora = datetime.now()\n",
    "\n",
    "# Formatar para obter o dia da semana e o mês por extenso\n",
    "dia_mes = agora.strftime('%A, %B %d, %Y')\n",
    "print(\"Dia e mês:\", dia_mes)"
   ]
  },
  {
   "cell_type": "markdown",
   "metadata": {},
   "source": [
    "# Strftime"
   ]
  },
  {
   "cell_type": "markdown",
   "metadata": {},
   "source": [
    "A função strptime em Python é usada para converter uma string que representa uma data e hora em um objeto datetime. O nome strptime é uma abreviação de \"string parse time\". Ela é a função inversa de strftime, que formata um objeto datetime em uma string.  Ela é particularmente útil para processar dados de entrada em formato de string que representam datas e horas, convertendo-os em um formato que pode ser facilmente manipulado e analisado.\n",
    "\n",
    "Link documentação: https://www.programiz.com/python-programming/datetime/strftime\n",
    "\n",
    "Parâmetros\n",
    "date_string: A string que representa a data e/ou hora.\n",
    "format: Uma string que especifica o formato de date_string. Esta string contém códigos de formatação que indicam como interpretar várias partes da string de data.\n",
    "\n",
    "Códigos de Formatação Comuns\n",
    "Os códigos de formatação utilizados em strptime são os mesmos que em strftime. Aqui estão alguns dos mais comuns:\n",
    "\n",
    "%Y: Ano com século (ex: 2024)\n",
    "%y: Ano sem século (ex: 24)\n",
    "%m: Mês como um número decimal (01-12)\n",
    "%d: Dia do mês como um número decimal (01-31)\n",
    "%H: Hora (24 horas) como um número decimal (00-23)\n",
    "%I: Hora (12 horas) como um número decimal (01-12)\n",
    "%B: Nome completo do mês (ex: January)\n",
    "%b: Abreviação do mês (ex: Jan)\n",
    "%p: AM ou PM"
   ]
  },
  {
   "cell_type": "code",
   "execution_count": 11,
   "metadata": {},
   "outputs": [
    {
     "name": "stdout",
     "output_type": "stream",
     "text": [
      "Data: 2024-05-18 15:45:32\n",
      "<class 'datetime.datetime'>\n"
     ]
    }
   ],
   "source": [
    "# Exemplo 1: Converter uma String em um Objeto datetime\n",
    "string = \"2024-05-18 15:45:32\"\n",
    "\n",
    "# Converter a string em um objeto datetime\n",
    "data = datetime.strptime(string, '%Y-%m-%d %H:%M:%S')\n",
    "print(\"Data:\", data)\n",
    "print(type(data))"
   ]
  },
  {
   "cell_type": "code",
   "execution_count": 12,
   "metadata": {},
   "outputs": [
    {
     "name": "stdout",
     "output_type": "stream",
     "text": [
      "Data: 2024-05-18\n"
     ]
    }
   ],
   "source": [
    "# Exemplo 2: Converter uma String de Data em um Objeto date\n",
    "string = \"18/05/2024\"\n",
    "\n",
    "# Converter a string em um objeto date\n",
    "data = datetime.strptime(string, '%d/%m/%Y').date()\n",
    "print(\"Data:\", data)"
   ]
  },
  {
   "cell_type": "code",
   "execution_count": 13,
   "metadata": {},
   "outputs": [
    {
     "name": "stdout",
     "output_type": "stream",
     "text": [
      "Objeto datetime: 1900-01-01 15:45:00\n"
     ]
    }
   ],
   "source": [
    "# Exemplo 3: Converter uma String com Hora em Formato de 12 Horas\n",
    "string = \"03:45 PM\"\n",
    "\n",
    "# Converter a string em um objeto datetime\n",
    "hora = datetime.strptime(string, '%I:%M %p')\n",
    "print(\"Objeto datetime:\", hora)"
   ]
  },
  {
   "cell_type": "markdown",
   "metadata": {},
   "source": [
    "# ctime()"
   ]
  },
  {
   "cell_type": "markdown",
   "metadata": {},
   "source": [
    " método ctime() em Python é uma função que converte um objeto de data e hora em uma string que representa a data e hora em um formato legível para humanos. Ele é um método dos objetos datetime no módulo datetime e também uma função no módulo time."
   ]
  },
  {
   "cell_type": "code",
   "execution_count": 14,
   "metadata": {},
   "outputs": [
    {
     "name": "stdout",
     "output_type": "stream",
     "text": [
      "Tue Jun  4 13:42:07 2024\n"
     ]
    }
   ],
   "source": [
    "# Usar a função sem parâmetro para obter o horário atual\n",
    "data_legivel = time.ctime()\n",
    "print(data_legivel)"
   ]
  },
  {
   "cell_type": "markdown",
   "metadata": {},
   "source": [
    "# datetime.time"
   ]
  },
  {
   "cell_type": "code",
   "execution_count": 23,
   "metadata": {},
   "outputs": [
    {
     "name": "stdout",
     "output_type": "stream",
     "text": [
      "05:30:00 2003-05-03\n",
      "2003 5 3\n"
     ]
    }
   ],
   "source": [
    "hora = datetime.time(pd.Timestamp('05/03/2003 05:30'))\n",
    "dia = datetime.date(pd.Timestamp('05/03/2003 05:30'))\n",
    "print(hora, dia)\n",
    "\n",
    "print(dia.year, dia.month, dia.day)"
   ]
  },
  {
   "cell_type": "markdown",
   "metadata": {},
   "source": [
    "# datetime.datetime"
   ]
  },
  {
   "cell_type": "code",
   "execution_count": null,
   "metadata": {},
   "outputs": [
    {
     "name": "stdout",
     "output_type": "stream",
     "text": [
      "2021-11-12 11:15:00\n"
     ]
    }
   ],
   "source": [
    "data = datetime(2021,11,12,11,15)\n",
    "print(data)"
   ]
  },
  {
   "cell_type": "markdown",
   "metadata": {},
   "source": [
    "# Exemplo prático 1 Pd.to_datetime"
   ]
  },
  {
   "cell_type": "markdown",
   "metadata": {},
   "source": [
    "A função pd.to_datetime do pandas é utilizada para converter argumentos passados em uma representação de data e hora em um objeto datetime ou Timestamp. Ela pode lidar com vários tipos de entrada, como strings, números, listas e objetos de data e hora nativos do Python, e é muito útil para converter colunas de um DataFrame para um formato de data e hora."
   ]
  },
  {
   "cell_type": "code",
   "execution_count": null,
   "metadata": {},
   "outputs": [],
   "source": [
    "start_date = datetime.now() # recebe a data de hoje\n",
    "dates = [(start_date + timedelta(days=i)).strftime('%Y-%m-%d') for i in range(5)] # cria a coluna data, usando list comprehension\n",
    "\n",
    "# Criar um DataFrame genérico com 3 colunas e 5 linhas\n",
    "data = {\n",
    "    'Coluna1': [1, 2, 3, 4, 5],\n",
    "    'Coluna2': [10.5, 20.5, 30.5, 40.5, 50.5],\n",
    "    'date': dates\n",
    "}\n",
    "df = pd.DataFrame(data)\n",
    "df.info()\n",
    "df"
   ]
  },
  {
   "cell_type": "markdown",
   "metadata": {},
   "source": [
    "## Transforma coluna date de string para datetime - método 1"
   ]
  },
  {
   "cell_type": "code",
   "execution_count": null,
   "metadata": {},
   "outputs": [],
   "source": [
    "df['date'] = pd.to_datetime(df['date'])\n",
    "df.info()\n",
    "df"
   ]
  },
  {
   "cell_type": "markdown",
   "metadata": {},
   "source": [
    "## Transforma coluna date de string para datetime - método 2"
   ]
  },
  {
   "cell_type": "code",
   "execution_count": null,
   "metadata": {},
   "outputs": [],
   "source": [
    "df = df.assign(date = lambda x: pd.to_datetime(x.date))\n",
    "df.info()\n",
    "df"
   ]
  },
  {
   "cell_type": "markdown",
   "metadata": {},
   "source": [
    "# Exemplo prático 2 - Contagem de dias até certa data"
   ]
  },
  {
   "cell_type": "code",
   "execution_count": null,
   "metadata": {},
   "outputs": [],
   "source": [
    "def dias_restantes(ultimo_dia):\n",
    "        ultimo_dia = datetime.strptime(ultimo_dia, '%Y-%m-%d') # recebe ultimo dia como string e converte em datetime\n",
    "        hoje = datetime.now() # captura a data de hoje\n",
    "        datas = pd.date_range(start=hoje, end=ultimo_dia, freq='B') # cria uma série de dias uteis entre hoje e a data futura\n",
    "        dias_uteis_restantes = len(datas) # retorna quantos dias uteis possuem entre hoje e o ultimo dia\n",
    "        return print(f\"Dado que estamos no dia {hoje.strftime(\"%Y-%m-%d\")} e o último dia do semestre é {ultimo_dia.strftime(\"%Y-%m-%d\")} \\n faltam {dias_uteis_restantes} dias úteis\")\n",
    "\n",
    "dias_restantes('2024-07-02')"
   ]
  }
 ],
 "metadata": {
  "kernelspec": {
   "display_name": "Python 3",
   "language": "python",
   "name": "python3"
  },
  "language_info": {
   "codemirror_mode": {
    "name": "ipython",
    "version": 3
   },
   "file_extension": ".py",
   "mimetype": "text/x-python",
   "name": "python",
   "nbconvert_exporter": "python",
   "pygments_lexer": "ipython3",
   "version": "3.9.12"
  }
 },
 "nbformat": 4,
 "nbformat_minor": 2
}
