{
 "cells": [
  {
   "cell_type": "markdown",
   "metadata": {},
   "source": [
    "### Dentro da área de capacitação da Fea dev é feita uma competição para saber qual código é mais eficiente para ordenar listas. Sabendo que há diversas formas de ordenação e que possuem tempos parecidos, como é possível mensurar um vencedor para a competição ?"
   ]
  },
  {
   "cell_type": "code",
   "execution_count": 29,
   "metadata": {},
   "outputs": [],
   "source": [
    "import time\n",
    "tempo_antes = time.perf_counter()\n",
    "\n",
    "def selection_sort(lista):\n",
    "    n = len(lista)\n",
    "    for i in range(n):\n",
    "        min_index = i\n",
    "        for j in range(i + 1, n):\n",
    "            if lista[j] < lista[min_index]:\n",
    "                min_index = j\n",
    "        lista[i], lista[min_index] = lista[min_index], lista[i]\n",
    "    return lista\n",
    "\n",
    "# Exemplo de uso:\n",
    "lista = [64, 25, 12, 22, 11]\n",
    "lista_ordenada = selection_sort(lista)\n",
    "\n",
    "# Contagem de tempo\n",
    "tempo_depois = time.perf_counter()\n",
    "tempo_do_código = tempo_depois - tempo_antes"
   ]
  },
  {
   "cell_type": "code",
   "execution_count": 30,
   "metadata": {},
   "outputs": [
    {
     "name": "stdout",
     "output_type": "stream",
     "text": [
      "[1, 2, 5, 7, 8, 12]\n"
     ]
    }
   ],
   "source": [
    "tempo_antes = time.perf_counter()\n",
    "\n",
    "def insertion_sort(lista):\n",
    "    for i in range(1, len(lista)):\n",
    "        chave = lista[i]\n",
    "        j = i - 1\n",
    "        while j >= 0 and lista[j] > chave:\n",
    "            lista[j + 1] = lista[j]\n",
    "            j -= 1\n",
    "        lista[j + 1] = chave\n",
    "\n",
    "# Exemplo de uso\n",
    "lista = [5, 2, 8, 12, 1, 7]\n",
    "insertion_sort(lista)\n",
    "print(lista)  # Output: [1, 2, 5, 7, 8, 12]\n",
    "\n",
    "# Contagem de tempo\n",
    "tempo_depois = time.perf_counter()\n",
    "tempo_do_código = tempo_depois - tempo_antes"
   ]
  }
 ],
 "metadata": {
  "kernelspec": {
   "display_name": "base",
   "language": "python",
   "name": "python3"
  },
  "language_info": {
   "codemirror_mode": {
    "name": "ipython",
    "version": 3
   },
   "file_extension": ".py",
   "mimetype": "text/x-python",
   "name": "python",
   "nbconvert_exporter": "python",
   "pygments_lexer": "ipython3",
   "version": "3.9.12"
  }
 },
 "nbformat": 4,
 "nbformat_minor": 2
}
