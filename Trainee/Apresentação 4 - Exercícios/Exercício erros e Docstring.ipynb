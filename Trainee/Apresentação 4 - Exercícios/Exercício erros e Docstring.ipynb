{
 "cells": [
  {
   "cell_type": "code",
   "execution_count": 24,
   "metadata": {},
   "outputs": [],
   "source": [
    "import pandas as pd\n",
    "from datetime import datetime"
   ]
  },
  {
   "cell_type": "markdown",
   "metadata": {},
   "source": [
    "## Exercício 1"
   ]
  },
  {
   "cell_type": "markdown",
   "metadata": {},
   "source": [
    "### Contexto: Você está em projetos na Fea dev e quer saber a idade dos matriculados no curso de python, para encontrar a faixa etária dos consumidores. Então, precisa criar uma função que irá adicionar nome e idade dos novos alunos a um dicionário.\n",
    "__Obs: Todos os integrantes de projetos usarão o código, evite erros não permitindo que nada além de letras fiquem em nome e nada além de números fiquem na idade.__\n"
   ]
  },
  {
   "cell_type": "code",
   "execution_count": 25,
   "metadata": {},
   "outputs": [
    {
     "name": "stdout",
     "output_type": "stream",
     "text": [
      "Não coloque números no nome, nem letras no número.\n"
     ]
    },
    {
     "data": {
      "text/plain": [
       "{'Pedro': '54', 'joão': '05', 'Jobson': '05', 'Juares': '05', 'Jô': '05'}"
      ]
     },
     "execution_count": 25,
     "metadata": {},
     "output_type": "execute_result"
    }
   ],
   "source": [
    "def dados(nome, numero, l = {}):\n",
    "    try:\n",
    "        len(nome) #A função len() não aceita caractéres numericos.\n",
    "        int(numero)\n",
    "\n",
    "        l[nome] = numero\n",
    "    except:\n",
    "        print(f'Não coloque números no nome, nem letras no número.')\n",
    "    return l\n",
    "\n",
    "dados('Pedro', '54')\n",
    "dados('joão', '05')\n",
    "dados('Jobson', '05')\n",
    "dados('Juares', '05')\n",
    "dados('Jô', '05')\n",
    "dados(5, '05') # Exemplo de erro.\n"
   ]
  },
  {
   "cell_type": "markdown",
   "metadata": {},
   "source": [
    "## Exercício 2"
   ]
  },
  {
   "cell_type": "markdown",
   "metadata": {},
   "source": [
    "### Contexto: Em um projeto em grupo de finanças quantitativas na Fea dev, você decide criar uma função que irá calcular o desvio padrão. Sabendo que outras pessoas irão olhar o seu código e que há algumas formas de calcular esse desvio, você deve adicionar uma documentação (docstring) junto a função para que ele não sejam colocados parâmetros errados."
   ]
  },
  {
   "cell_type": "markdown",
   "metadata": {
    "vscode": {
     "languageId": "html"
    }
   },
   "source": [
    "<img src='https://miro.medium.com/v2/resize:fit:498/1*PCMeI7gmHjcNa6wQPVDXsQ.png' height=\"50%\" width=\"400\" style=\"margin-left: auto;margin-right: auto\">"
   ]
  },
  {
   "cell_type": "code",
   "execution_count": 26,
   "metadata": {},
   "outputs": [
    {
     "data": {
      "text/plain": [
       "1.5811388300841898"
      ]
     },
     "execution_count": 26,
     "metadata": {},
     "output_type": "execute_result"
    }
   ],
   "source": [
    "def calcular_desvio_padrao(valores):\n",
    "    \"\"\"\n",
    "    Calcula o desvio padrão de uma lista de números.\n",
    "\n",
    "    :param valores: Uma lista de números. Deve conter pelo menos dois números.\n",
    "\n",
    "    Exemplo:\n",
    "        calcular_desvio_padrao([1, 2, 3, 4, 5])\n",
    "        >> 1.5811388300841898\n",
    "    \"\"\"\n",
    "    if len(valores) < 2:\n",
    "        raise ValueError(\"A lista deve conter pelo menos dois números.\")\n",
    "    \n",
    "    n = len(valores)\n",
    "    media = sum(valores) / n\n",
    "    variancia = sum((x - media) ** 2 for x in valores) / (n - 1)\n",
    "    desvio_padrao = variancia ** 0.5\n",
    "\n",
    "    return desvio_padrao\n",
    "\n",
    "calcular_desvio_padrao([1, 2, 3,4, 5])"
   ]
  }
 ],
 "metadata": {
  "kernelspec": {
   "display_name": "base",
   "language": "python",
   "name": "python3"
  },
  "language_info": {
   "codemirror_mode": {
    "name": "ipython",
    "version": 3
   },
   "file_extension": ".py",
   "mimetype": "text/x-python",
   "name": "python",
   "nbconvert_exporter": "python",
   "pygments_lexer": "ipython3",
   "version": "3.9.12"
  }
 },
 "nbformat": 4,
 "nbformat_minor": 2
}
