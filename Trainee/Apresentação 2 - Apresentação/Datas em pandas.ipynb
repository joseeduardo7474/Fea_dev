{
 "cells": [
  {
   "cell_type": "code",
   "execution_count": 2,
   "id": "220d7ab5",
   "metadata": {},
   "outputs": [],
   "source": [
    "import pandas as pd\n",
    "import numpy as np\n",
    "import datetime as dt"
   ]
  },
  {
   "cell_type": "code",
   "execution_count": 44,
   "id": "d2a96c43",
   "metadata": {},
   "outputs": [
    {
     "name": "stdout",
     "output_type": "stream",
     "text": [
      "1999-12-31\n",
      "2002-08-22\n",
      "2015-04-14\n",
      "2024-06-04\n"
     ]
    }
   ],
   "source": [
    "data1 = dt.date(1999,12,31)\n",
    "data2 = dt.date(2002,8,22)\n",
    "data3 = dt.date(2015,4,14)\n",
    "data4 = dt.date.today()\n",
    "\n",
    "print(data1)\n",
    "print(data2)\n",
    "print(data3)\n",
    "print(data4)"
   ]
  },
  {
   "cell_type": "markdown",
   "id": "47ac5c80",
   "metadata": {},
   "source": [
    "### Comparações"
   ]
  },
  {
   "cell_type": "code",
   "execution_count": 45,
   "id": "19862e6d",
   "metadata": {},
   "outputs": [
    {
     "name": "stdout",
     "output_type": "stream",
     "text": [
      "False\n",
      "True\n",
      "False\n"
     ]
    }
   ],
   "source": [
    "print(data3>data4)\n",
    "print(data4>data1)\n",
    "print(data4==data2)"
   ]
  },
  {
   "cell_type": "code",
   "execution_count": 5,
   "id": "eca42d19",
   "metadata": {},
   "outputs": [
    {
     "name": "stdout",
     "output_type": "stream",
     "text": [
      "8922 days, 0:00:00\n",
      "8922\n",
      "24.0\n"
     ]
    }
   ],
   "source": [
    "diff=data4-data1\n",
    "print(diff)\n",
    "print(diff.days)\n",
    "anos=diff.days/365\n",
    "print(round(anos,0))"
   ]
  },
  {
   "cell_type": "markdown",
   "id": "811b716b",
   "metadata": {},
   "source": [
    "### Usos do Timestamp"
   ]
  },
  {
   "cell_type": "code",
   "execution_count": 6,
   "id": "e988eb32",
   "metadata": {},
   "outputs": [
    {
     "data": {
      "text/plain": [
       "Timestamp('2019-09-01 10:05:00')"
      ]
     },
     "execution_count": 6,
     "metadata": {},
     "output_type": "execute_result"
    }
   ],
   "source": [
    "pd.Timestamp('9/1/2019 10:05AM')"
   ]
  },
  {
   "cell_type": "code",
   "execution_count": 7,
   "id": "34e408d6",
   "metadata": {},
   "outputs": [
    {
     "data": {
      "text/plain": [
       "Timestamp('2019-12-20 10:52:23')"
      ]
     },
     "execution_count": 7,
     "metadata": {},
     "output_type": "execute_result"
    }
   ],
   "source": [
    "pd.Timestamp(2019,12,20,10,52,23)"
   ]
  },
  {
   "cell_type": "code",
   "execution_count": 8,
   "id": "4f64cc75",
   "metadata": {},
   "outputs": [
    {
     "data": {
      "text/plain": [
       "3"
      ]
     },
     "execution_count": 8,
     "metadata": {},
     "output_type": "execute_result"
    }
   ],
   "source": [
    "pd.Timestamp(2024,5,22,10,45,2).isoweekday()"
   ]
  },
  {
   "cell_type": "code",
   "execution_count": 9,
   "id": "3c4adcd4",
   "metadata": {},
   "outputs": [
    {
     "data": {
      "text/plain": [
       "Timedelta('70 days 00:00:00')"
      ]
     },
     "execution_count": 9,
     "metadata": {},
     "output_type": "execute_result"
    }
   ],
   "source": [
    "pd.Timestamp(2024,5,22)-pd.Timestamp(2024,3,13)"
   ]
  },
  {
   "cell_type": "code",
   "execution_count": 10,
   "id": "4e659f47",
   "metadata": {},
   "outputs": [
    {
     "data": {
      "text/plain": [
       "25"
      ]
     },
     "execution_count": 10,
     "metadata": {},
     "output_type": "execute_result"
    }
   ],
   "source": [
    "pd.Timestamp(2024,5,17,0,0,25).second"
   ]
  },
  {
   "cell_type": "code",
   "execution_count": 11,
   "id": "631306dd",
   "metadata": {},
   "outputs": [
    {
     "data": {
      "text/plain": [
       "0"
      ]
     },
     "execution_count": 11,
     "metadata": {},
     "output_type": "execute_result"
    }
   ],
   "source": [
    "pd.Timestamp(2023,5,20).minute\n"
   ]
  },
  {
   "cell_type": "markdown",
   "id": "52afc968",
   "metadata": {},
   "source": [
    "**Period**"
   ]
  },
  {
   "cell_type": "code",
   "execution_count": 12,
   "id": "a2f45866",
   "metadata": {},
   "outputs": [
    {
     "data": {
      "text/plain": [
       "Period('2016-01-15', 'D')"
      ]
     },
     "execution_count": 12,
     "metadata": {},
     "output_type": "execute_result"
    }
   ],
   "source": [
    "pd.Period('1/15/2016')"
   ]
  },
  {
   "cell_type": "code",
   "execution_count": 13,
   "id": "d00bf412",
   "metadata": {},
   "outputs": [
    {
     "data": {
      "text/plain": [
       "Period('2002-12-15', 'D')"
      ]
     },
     "execution_count": 13,
     "metadata": {},
     "output_type": "execute_result"
    }
   ],
   "source": [
    "pd.Period('12/25/2002')-10"
   ]
  },
  {
   "cell_type": "code",
   "execution_count": 14,
   "id": "152b0302",
   "metadata": {},
   "outputs": [
    {
     "data": {
      "text/plain": [
       "Period('2016-06', 'M')"
      ]
     },
     "execution_count": 14,
     "metadata": {},
     "output_type": "execute_result"
    }
   ],
   "source": [
    "pd.Period('1/2016')+5"
   ]
  },
  {
   "cell_type": "markdown",
   "id": "505cf982",
   "metadata": {},
   "source": [
    "**Datetimeindex and PeriodIndex**"
   ]
  },
  {
   "cell_type": "code",
   "execution_count": 15,
   "id": "b154a27b",
   "metadata": {},
   "outputs": [
    {
     "data": {
      "text/plain": [
       "2016-09-01    a\n",
       "2016-09-02    b\n",
       "2016-09-03    c\n",
       "dtype: object"
      ]
     },
     "execution_count": 15,
     "metadata": {},
     "output_type": "execute_result"
    }
   ],
   "source": [
    "t1=pd.Series(list('abc'), [pd.Timestamp('2016-09-01'),pd.Timestamp('2016-09-02'),pd.Timestamp('2016-09-03')])\n",
    "t1"
   ]
  },
  {
   "cell_type": "code",
   "execution_count": 16,
   "id": "764af2f0",
   "metadata": {},
   "outputs": [
    {
     "data": {
      "text/plain": [
       "pandas.core.indexes.datetimes.DatetimeIndex"
      ]
     },
     "execution_count": 16,
     "metadata": {},
     "output_type": "execute_result"
    }
   ],
   "source": [
    "type(t1.index)"
   ]
  },
  {
   "cell_type": "code",
   "execution_count": 17,
   "id": "acc844e9",
   "metadata": {},
   "outputs": [
    {
     "data": {
      "text/plain": [
       "2016-09-01    d\n",
       "2016-10-01    e\n",
       "2016-11-01    f\n",
       "dtype: object"
      ]
     },
     "execution_count": 17,
     "metadata": {},
     "output_type": "execute_result"
    }
   ],
   "source": [
    "t2=pd.Series(list('def'), [pd.Timestamp('2016-09'),pd.Timestamp('2016-10'),pd.Timestamp('2016-11')])\n",
    "t2"
   ]
  },
  {
   "cell_type": "code",
   "execution_count": 18,
   "id": "21148169",
   "metadata": {},
   "outputs": [
    {
     "data": {
      "text/plain": [
       "pandas.core.indexes.datetimes.DatetimeIndex"
      ]
     },
     "execution_count": 18,
     "metadata": {},
     "output_type": "execute_result"
    }
   ],
   "source": [
    "type(t2.index)"
   ]
  },
  {
   "cell_type": "markdown",
   "id": "d5aca693",
   "metadata": {},
   "source": [
    "Converting to DateTime"
   ]
  },
  {
   "cell_type": "code",
   "execution_count": 19,
   "id": "867ac940",
   "metadata": {},
   "outputs": [
    {
     "data": {
      "text/html": [
       "<div>\n",
       "<style scoped>\n",
       "    .dataframe tbody tr th:only-of-type {\n",
       "        vertical-align: middle;\n",
       "    }\n",
       "\n",
       "    .dataframe tbody tr th {\n",
       "        vertical-align: top;\n",
       "    }\n",
       "\n",
       "    .dataframe thead th {\n",
       "        text-align: right;\n",
       "    }\n",
       "</style>\n",
       "<table border=\"1\" class=\"dataframe\">\n",
       "  <thead>\n",
       "    <tr style=\"text-align: right;\">\n",
       "      <th></th>\n",
       "      <th>a</th>\n",
       "      <th>b</th>\n",
       "    </tr>\n",
       "  </thead>\n",
       "  <tbody>\n",
       "    <tr>\n",
       "      <th>2 June 2013</th>\n",
       "      <td>199</td>\n",
       "      <td>93</td>\n",
       "    </tr>\n",
       "    <tr>\n",
       "      <th>Aug 29, 2014</th>\n",
       "      <td>32</td>\n",
       "      <td>126</td>\n",
       "    </tr>\n",
       "    <tr>\n",
       "      <th>2015-06-26</th>\n",
       "      <td>65</td>\n",
       "      <td>61</td>\n",
       "    </tr>\n",
       "    <tr>\n",
       "      <th>7/12/16</th>\n",
       "      <td>73</td>\n",
       "      <td>170</td>\n",
       "    </tr>\n",
       "  </tbody>\n",
       "</table>\n",
       "</div>"
      ],
      "text/plain": [
       "                a    b\n",
       "2 June 2013   199   93\n",
       "Aug 29, 2014   32  126\n",
       "2015-06-26     65   61\n",
       "7/12/16        73  170"
      ]
     },
     "execution_count": 19,
     "metadata": {},
     "output_type": "execute_result"
    }
   ],
   "source": [
    "d1=['2 June 2013','Aug 29, 2014','2015-06-26','7/12/16']\n",
    "\n",
    "ts3=pd.DataFrame(np.random.randint(10,200,(4,2)), index=d1,columns=list('ab'))\n",
    "ts3"
   ]
  },
  {
   "cell_type": "code",
   "execution_count": 20,
   "id": "e2e1d1e1",
   "metadata": {},
   "outputs": [
    {
     "data": {
      "text/html": [
       "<div>\n",
       "<style scoped>\n",
       "    .dataframe tbody tr th:only-of-type {\n",
       "        vertical-align: middle;\n",
       "    }\n",
       "\n",
       "    .dataframe tbody tr th {\n",
       "        vertical-align: top;\n",
       "    }\n",
       "\n",
       "    .dataframe thead th {\n",
       "        text-align: right;\n",
       "    }\n",
       "</style>\n",
       "<table border=\"1\" class=\"dataframe\">\n",
       "  <thead>\n",
       "    <tr style=\"text-align: right;\">\n",
       "      <th></th>\n",
       "      <th>a</th>\n",
       "      <th>b</th>\n",
       "    </tr>\n",
       "  </thead>\n",
       "  <tbody>\n",
       "    <tr>\n",
       "      <th>2013-06-02</th>\n",
       "      <td>199</td>\n",
       "      <td>93</td>\n",
       "    </tr>\n",
       "    <tr>\n",
       "      <th>2014-08-29</th>\n",
       "      <td>32</td>\n",
       "      <td>126</td>\n",
       "    </tr>\n",
       "    <tr>\n",
       "      <th>2015-06-26</th>\n",
       "      <td>65</td>\n",
       "      <td>61</td>\n",
       "    </tr>\n",
       "    <tr>\n",
       "      <th>2016-07-12</th>\n",
       "      <td>73</td>\n",
       "      <td>170</td>\n",
       "    </tr>\n",
       "  </tbody>\n",
       "</table>\n",
       "</div>"
      ],
      "text/plain": [
       "              a    b\n",
       "2013-06-02  199   93\n",
       "2014-08-29   32  126\n",
       "2015-06-26   65   61\n",
       "2016-07-12   73  170"
      ]
     },
     "execution_count": 20,
     "metadata": {},
     "output_type": "execute_result"
    }
   ],
   "source": [
    "ts3.index=pd.to_datetime(ts3.index)\n",
    "ts3"
   ]
  },
  {
   "cell_type": "code",
   "execution_count": 21,
   "id": "fb36cd0f",
   "metadata": {},
   "outputs": [
    {
     "data": {
      "text/plain": [
       "Timestamp('2012-07-04 00:00:00')"
      ]
     },
     "execution_count": 21,
     "metadata": {},
     "output_type": "execute_result"
    }
   ],
   "source": [
    "pd.to_datetime('4,7,12', dayfirst=True)"
   ]
  },
  {
   "cell_type": "markdown",
   "id": "8c11ea3e",
   "metadata": {},
   "source": [
    "Time Delta"
   ]
  },
  {
   "cell_type": "code",
   "execution_count": 22,
   "id": "19af1275",
   "metadata": {},
   "outputs": [
    {
     "data": {
      "text/plain": [
       "Timedelta('731 days 00:00:00')"
      ]
     },
     "execution_count": 22,
     "metadata": {},
     "output_type": "execute_result"
    }
   ],
   "source": [
    "pd.Timestamp('2012-07-04')-pd.Timestamp('2010-07-04')"
   ]
  },
  {
   "cell_type": "code",
   "execution_count": 23,
   "id": "fcff8213",
   "metadata": {},
   "outputs": [
    {
     "data": {
      "text/plain": [
       "Timestamp('2016-09-14 11:10:00')"
      ]
     },
     "execution_count": 23,
     "metadata": {},
     "output_type": "execute_result"
    }
   ],
   "source": [
    "pd.Timestamp('9/2/2016 8:10AM') + pd.Timedelta('12D 3H')"
   ]
  },
  {
   "cell_type": "markdown",
   "id": "87e916e2",
   "metadata": {},
   "source": [
    "**Offset**"
   ]
  },
  {
   "cell_type": "code",
   "execution_count": 24,
   "id": "52dc0a1d",
   "metadata": {
    "scrolled": true
   },
   "outputs": [
    {
     "data": {
      "text/plain": [
       "1"
      ]
     },
     "execution_count": 24,
     "metadata": {},
     "output_type": "execute_result"
    }
   ],
   "source": [
    "pd.Timestamp('9/5/2023').weekday()"
   ]
  },
  {
   "cell_type": "code",
   "execution_count": 25,
   "id": "8f72c97a",
   "metadata": {},
   "outputs": [
    {
     "data": {
      "text/plain": [
       "Timestamp('2023-09-30 00:00:00')"
      ]
     },
     "execution_count": 25,
     "metadata": {},
     "output_type": "execute_result"
    }
   ],
   "source": [
    "pd.Timestamp('9/5/2023') + pd.offsets.MonthEnd()"
   ]
  },
  {
   "cell_type": "code",
   "execution_count": 26,
   "id": "4f36bfce",
   "metadata": {},
   "outputs": [
    {
     "data": {
      "text/plain": [
       "Timestamp('2024-06-30 11:53:41.029784')"
      ]
     },
     "execution_count": 26,
     "metadata": {},
     "output_type": "execute_result"
    }
   ],
   "source": [
    "pd.Timestamp(dt.datetime.now()) + pd.offsets.MonthEnd()"
   ]
  },
  {
   "cell_type": "code",
   "execution_count": 27,
   "id": "821eaf4c",
   "metadata": {},
   "outputs": [
    {
     "name": "stdout",
     "output_type": "stream",
     "text": [
      "26 days 00:00:00\n"
     ]
    }
   ],
   "source": [
    "x=pd.Timestamp(dt.datetime.now()) +pd.offsets.MonthEnd()\n",
    "y=x-pd.Timestamp(dt.datetime.now())\n",
    "print(y)"
   ]
  },
  {
   "cell_type": "code",
   "execution_count": 28,
   "id": "786f2a2f",
   "metadata": {},
   "outputs": [
    {
     "name": "stdout",
     "output_type": "stream",
     "text": [
      "Day\n",
      "BusinessDay\n",
      "BDay\n",
      "CustomBusinessDay\n",
      "CDay\n",
      "CBMonthEnd\n",
      "CBMonthBegin\n",
      "MonthBegin\n",
      "BMonthBegin\n",
      "MonthEnd\n",
      "BMonthEnd\n",
      "SemiMonthEnd\n",
      "SemiMonthBegin\n",
      "BusinessHour\n",
      "CustomBusinessHour\n",
      "YearBegin\n",
      "BYearBegin\n",
      "YearEnd\n",
      "BYearEnd\n",
      "QuarterBegin\n",
      "BQuarterBegin\n",
      "QuarterEnd\n",
      "BQuarterEnd\n",
      "LastWeekOfMonth\n",
      "FY5253Quarter\n",
      "FY5253\n",
      "Week\n",
      "WeekOfMonth\n",
      "Easter\n",
      "Hour\n",
      "Minute\n",
      "Second\n",
      "Milli\n",
      "Micro\n",
      "Nano\n",
      "DateOffset\n"
     ]
    }
   ],
   "source": [
    "y=pd.offsets.__all__\n",
    "for x in y:\n",
    "    print(x)"
   ]
  },
  {
   "cell_type": "code",
   "execution_count": 29,
   "id": "d52a4656",
   "metadata": {},
   "outputs": [
    {
     "name": "stdout",
     "output_type": "stream",
     "text": [
      "Day\n",
      "BusinessDay\n",
      "BDay\n",
      "CustomBusinessDay\n",
      "CDay\n",
      "CBMonthEnd\n",
      "CBMonthBegin\n",
      "MonthBegin\n",
      "BMonthBegin\n",
      "MonthEnd\n",
      "BMonthEnd\n",
      "SemiMonthEnd\n",
      "SemiMonthBegin\n",
      "BusinessHour\n",
      "CustomBusinessHour\n",
      "YearBegin\n",
      "BYearBegin\n",
      "YearEnd\n",
      "BYearEnd\n",
      "QuarterBegin\n",
      "BQuarterBegin\n",
      "QuarterEnd\n",
      "BQuarterEnd\n",
      "LastWeekOfMonth\n",
      "FY5253Quarter\n",
      "FY5253\n",
      "Week\n",
      "WeekOfMonth\n",
      "Easter\n",
      "Hour\n",
      "Minute\n",
      "Second\n",
      "Milli\n",
      "Micro\n",
      "Nano\n",
      "DateOffset\n"
     ]
    },
    {
     "data": {
      "text/plain": [
       "[None,\n",
       " None,\n",
       " None,\n",
       " None,\n",
       " None,\n",
       " None,\n",
       " None,\n",
       " None,\n",
       " None,\n",
       " None,\n",
       " None,\n",
       " None,\n",
       " None,\n",
       " None,\n",
       " None,\n",
       " None,\n",
       " None,\n",
       " None,\n",
       " None,\n",
       " None,\n",
       " None,\n",
       " None,\n",
       " None,\n",
       " None,\n",
       " None,\n",
       " None,\n",
       " None,\n",
       " None,\n",
       " None,\n",
       " None,\n",
       " None,\n",
       " None,\n",
       " None,\n",
       " None,\n",
       " None,\n",
       " None]"
      ]
     },
     "execution_count": 29,
     "metadata": {},
     "output_type": "execute_result"
    }
   ],
   "source": [
    "opções = [print(x) for x in pd.offsets.__all__]\n",
    "opções"
   ]
  },
  {
   "cell_type": "markdown",
   "id": "64830dd5",
   "metadata": {},
   "source": [
    "**Working with Dates in a DataFrame**"
   ]
  },
  {
   "cell_type": "code",
   "execution_count": 30,
   "id": "2df44a0f",
   "metadata": {},
   "outputs": [
    {
     "data": {
      "text/plain": [
       "DatetimeIndex(['2016-10-02', '2016-10-16', '2016-10-30', '2016-11-13',\n",
       "               '2016-11-27', '2016-12-11', '2016-12-25', '2017-01-08',\n",
       "               '2017-01-22'],\n",
       "              dtype='datetime64[ns]', freq='2W-SUN')"
      ]
     },
     "execution_count": 30,
     "metadata": {},
     "output_type": "execute_result"
    }
   ],
   "source": [
    "dates=pd.date_range('10-01-2016', periods=9,freq='2w-SUN')\n",
    "dates"
   ]
  },
  {
   "cell_type": "code",
   "execution_count": 31,
   "id": "4c459575",
   "metadata": {},
   "outputs": [
    {
     "data": {
      "text/plain": [
       "DatetimeIndex(['2016-10-03', '2016-10-04', '2016-10-05', '2016-10-06',\n",
       "               '2016-10-07', '2016-10-10', '2016-10-11', '2016-10-12',\n",
       "               '2016-10-13'],\n",
       "              dtype='datetime64[ns]', freq='B')"
      ]
     },
     "execution_count": 31,
     "metadata": {},
     "output_type": "execute_result"
    }
   ],
   "source": [
    "dates2=pd.date_range('10-01-2016', periods=9,freq='B')\n",
    "dates2"
   ]
  },
  {
   "cell_type": "code",
   "execution_count": 32,
   "id": "02c2417c",
   "metadata": {},
   "outputs": [
    {
     "data": {
      "text/plain": [
       "DatetimeIndex(['2016-12-01', '2017-03-01', '2017-06-01', '2017-09-01',\n",
       "               '2017-12-01', '2018-03-01', '2018-06-01', '2018-09-01',\n",
       "               '2018-12-01', '2019-03-01', '2019-06-01', '2019-09-01'],\n",
       "              dtype='datetime64[ns]', freq='QS-JUN')"
      ]
     },
     "execution_count": 32,
     "metadata": {},
     "output_type": "execute_result"
    }
   ],
   "source": [
    "dates3=pd.date_range('10-01-2016', periods=12,freq='QS-JUN')\n",
    "dates3"
   ]
  },
  {
   "cell_type": "code",
   "execution_count": 33,
   "id": "0d25c44c",
   "metadata": {},
   "outputs": [
    {
     "data": {
      "text/html": [
       "<div>\n",
       "<style scoped>\n",
       "    .dataframe tbody tr th:only-of-type {\n",
       "        vertical-align: middle;\n",
       "    }\n",
       "\n",
       "    .dataframe tbody tr th {\n",
       "        vertical-align: top;\n",
       "    }\n",
       "\n",
       "    .dataframe thead th {\n",
       "        text-align: right;\n",
       "    }\n",
       "</style>\n",
       "<table border=\"1\" class=\"dataframe\">\n",
       "  <thead>\n",
       "    <tr style=\"text-align: right;\">\n",
       "      <th></th>\n",
       "      <th>Count 1</th>\n",
       "      <th>Count2</th>\n",
       "    </tr>\n",
       "  </thead>\n",
       "  <tbody>\n",
       "    <tr>\n",
       "      <th>2016-10-02</th>\n",
       "      <td>104</td>\n",
       "      <td>126</td>\n",
       "    </tr>\n",
       "    <tr>\n",
       "      <th>2016-10-16</th>\n",
       "      <td>112</td>\n",
       "      <td>122</td>\n",
       "    </tr>\n",
       "    <tr>\n",
       "      <th>2016-10-30</th>\n",
       "      <td>111</td>\n",
       "      <td>117</td>\n",
       "    </tr>\n",
       "    <tr>\n",
       "      <th>2016-11-13</th>\n",
       "      <td>111</td>\n",
       "      <td>117</td>\n",
       "    </tr>\n",
       "    <tr>\n",
       "      <th>2016-11-27</th>\n",
       "      <td>106</td>\n",
       "      <td>127</td>\n",
       "    </tr>\n",
       "    <tr>\n",
       "      <th>2016-12-11</th>\n",
       "      <td>103</td>\n",
       "      <td>125</td>\n",
       "    </tr>\n",
       "    <tr>\n",
       "      <th>2016-12-25</th>\n",
       "      <td>108</td>\n",
       "      <td>119</td>\n",
       "    </tr>\n",
       "    <tr>\n",
       "      <th>2017-01-08</th>\n",
       "      <td>108</td>\n",
       "      <td>124</td>\n",
       "    </tr>\n",
       "    <tr>\n",
       "      <th>2017-01-22</th>\n",
       "      <td>108</td>\n",
       "      <td>118</td>\n",
       "    </tr>\n",
       "  </tbody>\n",
       "</table>\n",
       "</div>"
      ],
      "text/plain": [
       "            Count 1  Count2\n",
       "2016-10-02      104     126\n",
       "2016-10-16      112     122\n",
       "2016-10-30      111     117\n",
       "2016-11-13      111     117\n",
       "2016-11-27      106     127\n",
       "2016-12-11      103     125\n",
       "2016-12-25      108     119\n",
       "2017-01-08      108     124\n",
       "2017-01-22      108     118"
      ]
     },
     "execution_count": 33,
     "metadata": {},
     "output_type": "execute_result"
    }
   ],
   "source": [
    "dates=pd.date_range('10-01-2016', periods=9,freq='2w-SUN')\n",
    "df=pd.DataFrame({'Count 1': 100 + np.random.randint(-5,10,9).cumsum(),\n",
    "               'Count2': 120 + np.random.randint(-5,10,9)}, index=dates)\n",
    "df"
   ]
  },
  {
   "cell_type": "code",
   "execution_count": 39,
   "id": "8afbef04",
   "metadata": {},
   "outputs": [
    {
     "data": {
      "text/plain": [
       "Index(['Sunday', 'Sunday', 'Sunday', 'Sunday', 'Sunday', 'Sunday', 'Sunday',\n",
       "       'Sunday', 'Sunday'],\n",
       "      dtype='object')"
      ]
     },
     "execution_count": 39,
     "metadata": {},
     "output_type": "execute_result"
    }
   ],
   "source": [
    "df.index.day_name()"
   ]
  },
  {
   "cell_type": "code",
   "execution_count": null,
   "id": "f73b0bb9",
   "metadata": {},
   "outputs": [
    {
     "data": {
      "text/html": [
       "<div>\n",
       "<style scoped>\n",
       "    .dataframe tbody tr th:only-of-type {\n",
       "        vertical-align: middle;\n",
       "    }\n",
       "\n",
       "    .dataframe tbody tr th {\n",
       "        vertical-align: top;\n",
       "    }\n",
       "\n",
       "    .dataframe thead th {\n",
       "        text-align: right;\n",
       "    }\n",
       "</style>\n",
       "<table border=\"1\" class=\"dataframe\">\n",
       "  <thead>\n",
       "    <tr style=\"text-align: right;\">\n",
       "      <th></th>\n",
       "      <th>Count 1</th>\n",
       "      <th>Count2</th>\n",
       "    </tr>\n",
       "  </thead>\n",
       "  <tbody>\n",
       "    <tr>\n",
       "      <th>2016-10-02</th>\n",
       "      <td>NaN</td>\n",
       "      <td>NaN</td>\n",
       "    </tr>\n",
       "    <tr>\n",
       "      <th>2016-10-16</th>\n",
       "      <td>-4.0</td>\n",
       "      <td>2.0</td>\n",
       "    </tr>\n",
       "    <tr>\n",
       "      <th>2016-10-30</th>\n",
       "      <td>-1.0</td>\n",
       "      <td>-2.0</td>\n",
       "    </tr>\n",
       "    <tr>\n",
       "      <th>2016-11-13</th>\n",
       "      <td>0.0</td>\n",
       "      <td>-10.0</td>\n",
       "    </tr>\n",
       "    <tr>\n",
       "      <th>2016-11-27</th>\n",
       "      <td>4.0</td>\n",
       "      <td>2.0</td>\n",
       "    </tr>\n",
       "    <tr>\n",
       "      <th>2016-12-11</th>\n",
       "      <td>-3.0</td>\n",
       "      <td>6.0</td>\n",
       "    </tr>\n",
       "    <tr>\n",
       "      <th>2016-12-25</th>\n",
       "      <td>-5.0</td>\n",
       "      <td>-6.0</td>\n",
       "    </tr>\n",
       "    <tr>\n",
       "      <th>2017-01-08</th>\n",
       "      <td>3.0</td>\n",
       "      <td>-3.0</td>\n",
       "    </tr>\n",
       "    <tr>\n",
       "      <th>2017-01-22</th>\n",
       "      <td>9.0</td>\n",
       "      <td>3.0</td>\n",
       "    </tr>\n",
       "  </tbody>\n",
       "</table>\n",
       "</div>"
      ],
      "text/plain": [
       "            Count 1  Count2\n",
       "2016-10-02      NaN     NaN\n",
       "2016-10-16     -4.0     2.0\n",
       "2016-10-30     -1.0    -2.0\n",
       "2016-11-13      0.0   -10.0\n",
       "2016-11-27      4.0     2.0\n",
       "2016-12-11     -3.0     6.0\n",
       "2016-12-25     -5.0    -6.0\n",
       "2017-01-08      3.0    -3.0\n",
       "2017-01-22      9.0     3.0"
      ]
     },
     "execution_count": 62,
     "metadata": {},
     "output_type": "execute_result"
    }
   ],
   "source": [
    "df.diff()"
   ]
  },
  {
   "cell_type": "code",
   "execution_count": null,
   "id": "37ec643f",
   "metadata": {},
   "outputs": [
    {
     "data": {
      "text/html": [
       "<div>\n",
       "<style scoped>\n",
       "    .dataframe tbody tr th:only-of-type {\n",
       "        vertical-align: middle;\n",
       "    }\n",
       "\n",
       "    .dataframe tbody tr th {\n",
       "        vertical-align: top;\n",
       "    }\n",
       "\n",
       "    .dataframe thead th {\n",
       "        text-align: right;\n",
       "    }\n",
       "</style>\n",
       "<table border=\"1\" class=\"dataframe\">\n",
       "  <thead>\n",
       "    <tr style=\"text-align: right;\">\n",
       "      <th></th>\n",
       "      <th>Count 1</th>\n",
       "      <th>Count2</th>\n",
       "    </tr>\n",
       "  </thead>\n",
       "  <tbody>\n",
       "    <tr>\n",
       "      <th>2016-10-31</th>\n",
       "      <td>95.0</td>\n",
       "      <td>126.666667</td>\n",
       "    </tr>\n",
       "    <tr>\n",
       "      <th>2016-11-30</th>\n",
       "      <td>95.0</td>\n",
       "      <td>117.000000</td>\n",
       "    </tr>\n",
       "    <tr>\n",
       "      <th>2016-12-31</th>\n",
       "      <td>91.5</td>\n",
       "      <td>121.000000</td>\n",
       "    </tr>\n",
       "    <tr>\n",
       "      <th>2017-01-31</th>\n",
       "      <td>96.5</td>\n",
       "      <td>116.500000</td>\n",
       "    </tr>\n",
       "  </tbody>\n",
       "</table>\n",
       "</div>"
      ],
      "text/plain": [
       "            Count 1      Count2\n",
       "2016-10-31     95.0  126.666667\n",
       "2016-11-30     95.0  117.000000\n",
       "2016-12-31     91.5  121.000000\n",
       "2017-01-31     96.5  116.500000"
      ]
     },
     "execution_count": 64,
     "metadata": {},
     "output_type": "execute_result"
    }
   ],
   "source": [
    "df.resample('M').mean()"
   ]
  },
  {
   "cell_type": "code",
   "execution_count": null,
   "id": "8e038b6d",
   "metadata": {},
   "outputs": [
    {
     "name": "stderr",
     "output_type": "stream",
     "text": [
      "C:\\Users\\hiros\\AppData\\Local\\Temp\\ipykernel_116872\\1797912031.py:1: FutureWarning: Indexing a DataFrame with a datetimelike index using a single string to slice the rows, like `frame[string]`, is deprecated and will be removed in a future version. Use `frame.loc[string]` instead.\n",
      "  df['2017']\n"
     ]
    },
    {
     "data": {
      "text/html": [
       "<div>\n",
       "<style scoped>\n",
       "    .dataframe tbody tr th:only-of-type {\n",
       "        vertical-align: middle;\n",
       "    }\n",
       "\n",
       "    .dataframe tbody tr th {\n",
       "        vertical-align: top;\n",
       "    }\n",
       "\n",
       "    .dataframe thead th {\n",
       "        text-align: right;\n",
       "    }\n",
       "</style>\n",
       "<table border=\"1\" class=\"dataframe\">\n",
       "  <thead>\n",
       "    <tr style=\"text-align: right;\">\n",
       "      <th></th>\n",
       "      <th>Count 1</th>\n",
       "      <th>Count2</th>\n",
       "    </tr>\n",
       "  </thead>\n",
       "  <tbody>\n",
       "    <tr>\n",
       "      <th>2017-01-08</th>\n",
       "      <td>92</td>\n",
       "      <td>115</td>\n",
       "    </tr>\n",
       "    <tr>\n",
       "      <th>2017-01-22</th>\n",
       "      <td>101</td>\n",
       "      <td>118</td>\n",
       "    </tr>\n",
       "  </tbody>\n",
       "</table>\n",
       "</div>"
      ],
      "text/plain": [
       "            Count 1  Count2\n",
       "2017-01-08       92     115\n",
       "2017-01-22      101     118"
      ]
     },
     "execution_count": 65,
     "metadata": {},
     "output_type": "execute_result"
    }
   ],
   "source": [
    "df['2017']"
   ]
  },
  {
   "cell_type": "code",
   "execution_count": null,
   "id": "1b04b6c1",
   "metadata": {},
   "outputs": [
    {
     "name": "stderr",
     "output_type": "stream",
     "text": [
      "C:\\Users\\hiros\\AppData\\Local\\Temp\\ipykernel_116872\\2391205231.py:1: FutureWarning: Indexing a DataFrame with a datetimelike index using a single string to slice the rows, like `frame[string]`, is deprecated and will be removed in a future version. Use `frame.loc[string]` instead.\n",
      "  df['2016-12']\n"
     ]
    },
    {
     "data": {
      "text/html": [
       "<div>\n",
       "<style scoped>\n",
       "    .dataframe tbody tr th:only-of-type {\n",
       "        vertical-align: middle;\n",
       "    }\n",
       "\n",
       "    .dataframe tbody tr th {\n",
       "        vertical-align: top;\n",
       "    }\n",
       "\n",
       "    .dataframe thead th {\n",
       "        text-align: right;\n",
       "    }\n",
       "</style>\n",
       "<table border=\"1\" class=\"dataframe\">\n",
       "  <thead>\n",
       "    <tr style=\"text-align: right;\">\n",
       "      <th></th>\n",
       "      <th>Count 1</th>\n",
       "      <th>Count2</th>\n",
       "    </tr>\n",
       "  </thead>\n",
       "  <tbody>\n",
       "    <tr>\n",
       "      <th>2016-12-11</th>\n",
       "      <td>94</td>\n",
       "      <td>124</td>\n",
       "    </tr>\n",
       "    <tr>\n",
       "      <th>2016-12-25</th>\n",
       "      <td>89</td>\n",
       "      <td>118</td>\n",
       "    </tr>\n",
       "  </tbody>\n",
       "</table>\n",
       "</div>"
      ],
      "text/plain": [
       "            Count 1  Count2\n",
       "2016-12-11       94     124\n",
       "2016-12-25       89     118"
      ]
     },
     "execution_count": 66,
     "metadata": {},
     "output_type": "execute_result"
    }
   ],
   "source": [
    "df['2016-12']"
   ]
  },
  {
   "cell_type": "code",
   "execution_count": null,
   "id": "5d2ded95",
   "metadata": {},
   "outputs": [
    {
     "data": {
      "text/html": [
       "<div>\n",
       "<style scoped>\n",
       "    .dataframe tbody tr th:only-of-type {\n",
       "        vertical-align: middle;\n",
       "    }\n",
       "\n",
       "    .dataframe tbody tr th {\n",
       "        vertical-align: top;\n",
       "    }\n",
       "\n",
       "    .dataframe thead th {\n",
       "        text-align: right;\n",
       "    }\n",
       "</style>\n",
       "<table border=\"1\" class=\"dataframe\">\n",
       "  <thead>\n",
       "    <tr style=\"text-align: right;\">\n",
       "      <th></th>\n",
       "      <th>Count 1</th>\n",
       "      <th>Count2</th>\n",
       "    </tr>\n",
       "  </thead>\n",
       "  <tbody>\n",
       "    <tr>\n",
       "      <th>2016-12-11</th>\n",
       "      <td>94</td>\n",
       "      <td>124</td>\n",
       "    </tr>\n",
       "    <tr>\n",
       "      <th>2016-12-25</th>\n",
       "      <td>89</td>\n",
       "      <td>118</td>\n",
       "    </tr>\n",
       "    <tr>\n",
       "      <th>2017-01-08</th>\n",
       "      <td>92</td>\n",
       "      <td>115</td>\n",
       "    </tr>\n",
       "    <tr>\n",
       "      <th>2017-01-22</th>\n",
       "      <td>101</td>\n",
       "      <td>118</td>\n",
       "    </tr>\n",
       "  </tbody>\n",
       "</table>\n",
       "</div>"
      ],
      "text/plain": [
       "            Count 1  Count2\n",
       "2016-12-11       94     124\n",
       "2016-12-25       89     118\n",
       "2017-01-08       92     115\n",
       "2017-01-22      101     118"
      ]
     },
     "execution_count": 68,
     "metadata": {},
     "output_type": "execute_result"
    }
   ],
   "source": [
    "df['2016-12':]"
   ]
  },
  {
   "cell_type": "code",
   "execution_count": null,
   "id": "dd118a71",
   "metadata": {},
   "outputs": [],
   "source": []
  }
 ],
 "metadata": {
  "kernelspec": {
   "display_name": "Python 3 (ipykernel)",
   "language": "python",
   "name": "python3"
  },
  "language_info": {
   "codemirror_mode": {
    "name": "ipython",
    "version": 3
   },
   "file_extension": ".py",
   "mimetype": "text/x-python",
   "name": "python",
   "nbconvert_exporter": "python",
   "pygments_lexer": "ipython3",
   "version": "3.9.12"
  }
 },
 "nbformat": 4,
 "nbformat_minor": 5
}
